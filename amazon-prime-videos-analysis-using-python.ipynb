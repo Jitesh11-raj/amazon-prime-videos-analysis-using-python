{
 "cells": [
  {
   "cell_type": "code",
   "execution_count": 1,
   "id": "54df1d17",
   "metadata": {
    "_cell_guid": "b1076dfc-b9ad-4769-8c92-a6c4dae69d19",
    "_uuid": "8f2839f25d086af736a60e9eeb907d3b93b6e0e5",
    "execution": {
     "iopub.execute_input": "2023-10-07T09:29:20.085708Z",
     "iopub.status.busy": "2023-10-07T09:29:20.085363Z",
     "iopub.status.idle": "2023-10-07T09:29:20.478433Z",
     "shell.execute_reply": "2023-10-07T09:29:20.477215Z"
    },
    "papermill": {
     "duration": 0.403758,
     "end_time": "2023-10-07T09:29:20.481222",
     "exception": false,
     "start_time": "2023-10-07T09:29:20.077464",
     "status": "completed"
    },
    "tags": []
   },
   "outputs": [
    {
     "name": "stdout",
     "output_type": "stream",
     "text": [
      "/kaggle/input/amazon-prime-dataset/amazon_prime_titles.csv\n"
     ]
    }
   ],
   "source": [
    "# This Python 3 environment comes with many helpful analytics libraries installed\n",
    "# It is defined by the kaggle/python Docker image: https://github.com/kaggle/docker-python\n",
    "# For example, here's several helpful packages to load\n",
    "\n",
    "import numpy as np # linear algebra\n",
    "import pandas as pd # data processing, CSV file I/O (e.g. pd.read_csv)\n",
    "\n",
    "# Input data files are available in the read-only \"../input/\" directory\n",
    "# For example, running this (by clicking run or pressing Shift+Enter) will list all files under the input directory\n",
    "\n",
    "import os\n",
    "for dirname, _, filenames in os.walk('/kaggle/input'):\n",
    "    for filename in filenames:\n",
    "        print(os.path.join(dirname, filename))\n",
    "\n",
    "# You can write up to 20GB to the current directory (/kaggle/working/) that gets preserved as output when you create a version using \"Save & Run All\" \n",
    "# You can also write temporary files to /kaggle/temp/, but they won't be saved outside of the current session"
   ]
  },
  {
   "cell_type": "code",
   "execution_count": 2,
   "id": "46f7c610",
   "metadata": {
    "execution": {
     "iopub.execute_input": "2023-10-07T09:29:20.494448Z",
     "iopub.status.busy": "2023-10-07T09:29:20.493840Z",
     "iopub.status.idle": "2023-10-07T09:29:22.275588Z",
     "shell.execute_reply": "2023-10-07T09:29:22.274421Z"
    },
    "papermill": {
     "duration": 1.792305,
     "end_time": "2023-10-07T09:29:22.279202",
     "exception": false,
     "start_time": "2023-10-07T09:29:20.486897",
     "status": "completed"
    },
    "tags": []
   },
   "outputs": [],
   "source": [
    "import pandas as pd\n",
    "import seaborn as sns\n",
    "import matplotlib.pyplot as plt"
   ]
  },
  {
   "cell_type": "code",
   "execution_count": 3,
   "id": "9769432c",
   "metadata": {
    "execution": {
     "iopub.execute_input": "2023-10-07T09:29:22.293906Z",
     "iopub.status.busy": "2023-10-07T09:29:22.292372Z",
     "iopub.status.idle": "2023-10-07T09:29:22.494745Z",
     "shell.execute_reply": "2023-10-07T09:29:22.493001Z"
    },
    "papermill": {
     "duration": 0.212644,
     "end_time": "2023-10-07T09:29:22.497718",
     "exception": false,
     "start_time": "2023-10-07T09:29:22.285074",
     "status": "completed"
    },
    "tags": []
   },
   "outputs": [],
   "source": [
    "df = pd.read_csv(\"/kaggle/input/amazon-prime-dataset/amazon_prime_titles.csv\")"
   ]
  },
  {
   "cell_type": "code",
   "execution_count": 4,
   "id": "91ac763a",
   "metadata": {
    "execution": {
     "iopub.execute_input": "2023-10-07T09:29:22.511304Z",
     "iopub.status.busy": "2023-10-07T09:29:22.510823Z",
     "iopub.status.idle": "2023-10-07T09:29:22.539676Z",
     "shell.execute_reply": "2023-10-07T09:29:22.538831Z"
    },
    "papermill": {
     "duration": 0.038249,
     "end_time": "2023-10-07T09:29:22.541839",
     "exception": false,
     "start_time": "2023-10-07T09:29:22.503590",
     "status": "completed"
    },
    "tags": []
   },
   "outputs": [
    {
     "data": {
      "text/html": [
       "<div>\n",
       "<style scoped>\n",
       "    .dataframe tbody tr th:only-of-type {\n",
       "        vertical-align: middle;\n",
       "    }\n",
       "\n",
       "    .dataframe tbody tr th {\n",
       "        vertical-align: top;\n",
       "    }\n",
       "\n",
       "    .dataframe thead th {\n",
       "        text-align: right;\n",
       "    }\n",
       "</style>\n",
       "<table border=\"1\" class=\"dataframe\">\n",
       "  <thead>\n",
       "    <tr style=\"text-align: right;\">\n",
       "      <th></th>\n",
       "      <th>show_id</th>\n",
       "      <th>type</th>\n",
       "      <th>title</th>\n",
       "      <th>director</th>\n",
       "      <th>cast</th>\n",
       "      <th>country</th>\n",
       "      <th>date_added</th>\n",
       "      <th>release_year</th>\n",
       "      <th>rating</th>\n",
       "      <th>duration</th>\n",
       "      <th>listed_in</th>\n",
       "      <th>description</th>\n",
       "    </tr>\n",
       "  </thead>\n",
       "  <tbody>\n",
       "    <tr>\n",
       "      <th>0</th>\n",
       "      <td>s1</td>\n",
       "      <td>Movie</td>\n",
       "      <td>The Grand Seduction</td>\n",
       "      <td>Don McKellar</td>\n",
       "      <td>Brendan Gleeson, Taylor Kitsch, Gordon Pinsent</td>\n",
       "      <td>Canada</td>\n",
       "      <td>March 30, 2021</td>\n",
       "      <td>2014</td>\n",
       "      <td>NaN</td>\n",
       "      <td>113 min</td>\n",
       "      <td>Comedy, Drama</td>\n",
       "      <td>A small fishing village must procure a local d...</td>\n",
       "    </tr>\n",
       "    <tr>\n",
       "      <th>1</th>\n",
       "      <td>s2</td>\n",
       "      <td>Movie</td>\n",
       "      <td>Take Care Good Night</td>\n",
       "      <td>Girish Joshi</td>\n",
       "      <td>Mahesh Manjrekar, Abhay Mahajan, Sachin Khedekar</td>\n",
       "      <td>India</td>\n",
       "      <td>March 30, 2021</td>\n",
       "      <td>2018</td>\n",
       "      <td>13+</td>\n",
       "      <td>110 min</td>\n",
       "      <td>Drama, International</td>\n",
       "      <td>A Metro Family decides to fight a Cyber Crimin...</td>\n",
       "    </tr>\n",
       "    <tr>\n",
       "      <th>2</th>\n",
       "      <td>s3</td>\n",
       "      <td>Movie</td>\n",
       "      <td>Secrets of Deception</td>\n",
       "      <td>Josh Webber</td>\n",
       "      <td>Tom Sizemore, Lorenzo Lamas, Robert LaSardo, R...</td>\n",
       "      <td>United States</td>\n",
       "      <td>March 30, 2021</td>\n",
       "      <td>2017</td>\n",
       "      <td>NaN</td>\n",
       "      <td>74 min</td>\n",
       "      <td>Action, Drama, Suspense</td>\n",
       "      <td>After a man discovers his wife is cheating on ...</td>\n",
       "    </tr>\n",
       "    <tr>\n",
       "      <th>3</th>\n",
       "      <td>s4</td>\n",
       "      <td>Movie</td>\n",
       "      <td>Pink: Staying True</td>\n",
       "      <td>Sonia Anderson</td>\n",
       "      <td>Interviews with: Pink, Adele, Beyoncé, Britney...</td>\n",
       "      <td>United States</td>\n",
       "      <td>March 30, 2021</td>\n",
       "      <td>2014</td>\n",
       "      <td>NaN</td>\n",
       "      <td>69 min</td>\n",
       "      <td>Documentary</td>\n",
       "      <td>Pink breaks the mold once again, bringing her ...</td>\n",
       "    </tr>\n",
       "    <tr>\n",
       "      <th>4</th>\n",
       "      <td>s5</td>\n",
       "      <td>Movie</td>\n",
       "      <td>Monster Maker</td>\n",
       "      <td>Giles Foster</td>\n",
       "      <td>Harry Dean Stanton, Kieran O'Brien, George Cos...</td>\n",
       "      <td>United Kingdom</td>\n",
       "      <td>March 30, 2021</td>\n",
       "      <td>1989</td>\n",
       "      <td>NaN</td>\n",
       "      <td>45 min</td>\n",
       "      <td>Drama, Fantasy</td>\n",
       "      <td>Teenage Matt Banting wants to work with a famo...</td>\n",
       "    </tr>\n",
       "  </tbody>\n",
       "</table>\n",
       "</div>"
      ],
      "text/plain": [
       "  show_id   type                 title        director  \\\n",
       "0      s1  Movie   The Grand Seduction    Don McKellar   \n",
       "1      s2  Movie  Take Care Good Night    Girish Joshi   \n",
       "2      s3  Movie  Secrets of Deception     Josh Webber   \n",
       "3      s4  Movie    Pink: Staying True  Sonia Anderson   \n",
       "4      s5  Movie         Monster Maker    Giles Foster   \n",
       "\n",
       "                                                cast         country  \\\n",
       "0     Brendan Gleeson, Taylor Kitsch, Gordon Pinsent          Canada   \n",
       "1   Mahesh Manjrekar, Abhay Mahajan, Sachin Khedekar           India   \n",
       "2  Tom Sizemore, Lorenzo Lamas, Robert LaSardo, R...   United States   \n",
       "3  Interviews with: Pink, Adele, Beyoncé, Britney...   United States   \n",
       "4  Harry Dean Stanton, Kieran O'Brien, George Cos...  United Kingdom   \n",
       "\n",
       "       date_added  release_year rating duration                listed_in  \\\n",
       "0  March 30, 2021          2014    NaN  113 min            Comedy, Drama   \n",
       "1  March 30, 2021          2018    13+  110 min     Drama, International   \n",
       "2  March 30, 2021          2017    NaN   74 min  Action, Drama, Suspense   \n",
       "3  March 30, 2021          2014    NaN   69 min              Documentary   \n",
       "4  March 30, 2021          1989    NaN   45 min           Drama, Fantasy   \n",
       "\n",
       "                                         description  \n",
       "0  A small fishing village must procure a local d...  \n",
       "1  A Metro Family decides to fight a Cyber Crimin...  \n",
       "2  After a man discovers his wife is cheating on ...  \n",
       "3  Pink breaks the mold once again, bringing her ...  \n",
       "4  Teenage Matt Banting wants to work with a famo...  "
      ]
     },
     "execution_count": 4,
     "metadata": {},
     "output_type": "execute_result"
    }
   ],
   "source": [
    "df.head()"
   ]
  },
  {
   "cell_type": "code",
   "execution_count": 5,
   "id": "159ce7ad",
   "metadata": {
    "execution": {
     "iopub.execute_input": "2023-10-07T09:29:22.557088Z",
     "iopub.status.busy": "2023-10-07T09:29:22.555146Z",
     "iopub.status.idle": "2023-10-07T09:29:22.564579Z",
     "shell.execute_reply": "2023-10-07T09:29:22.562641Z"
    },
    "papermill": {
     "duration": 0.01928,
     "end_time": "2023-10-07T09:29:22.567145",
     "exception": false,
     "start_time": "2023-10-07T09:29:22.547865",
     "status": "completed"
    },
    "tags": []
   },
   "outputs": [
    {
     "data": {
      "text/plain": [
       "(9668, 12)"
      ]
     },
     "execution_count": 5,
     "metadata": {},
     "output_type": "execute_result"
    }
   ],
   "source": [
    "df.shape"
   ]
  },
  {
   "cell_type": "code",
   "execution_count": 6,
   "id": "23d00a67",
   "metadata": {
    "execution": {
     "iopub.execute_input": "2023-10-07T09:29:22.581012Z",
     "iopub.status.busy": "2023-10-07T09:29:22.580667Z",
     "iopub.status.idle": "2023-10-07T09:29:22.599221Z",
     "shell.execute_reply": "2023-10-07T09:29:22.597850Z"
    },
    "papermill": {
     "duration": 0.028333,
     "end_time": "2023-10-07T09:29:22.601493",
     "exception": false,
     "start_time": "2023-10-07T09:29:22.573160",
     "status": "completed"
    },
    "tags": []
   },
   "outputs": [
    {
     "data": {
      "text/plain": [
       "show_id            0\n",
       "type               0\n",
       "title              0\n",
       "director        2083\n",
       "cast            1233\n",
       "country         8996\n",
       "date_added      9513\n",
       "release_year       0\n",
       "rating           337\n",
       "duration           0\n",
       "listed_in          0\n",
       "description        0\n",
       "dtype: int64"
      ]
     },
     "execution_count": 6,
     "metadata": {},
     "output_type": "execute_result"
    }
   ],
   "source": [
    "df.isnull().sum()"
   ]
  },
  {
   "cell_type": "code",
   "execution_count": 7,
   "id": "da8614c4",
   "metadata": {
    "execution": {
     "iopub.execute_input": "2023-10-07T09:29:22.616109Z",
     "iopub.status.busy": "2023-10-07T09:29:22.615734Z",
     "iopub.status.idle": "2023-10-07T09:29:22.623363Z",
     "shell.execute_reply": "2023-10-07T09:29:22.622123Z"
    },
    "papermill": {
     "duration": 0.018055,
     "end_time": "2023-10-07T09:29:22.625675",
     "exception": false,
     "start_time": "2023-10-07T09:29:22.607620",
     "status": "completed"
    },
    "tags": []
   },
   "outputs": [
    {
     "data": {
      "text/plain": [
       "Index(['show_id', 'type', 'title', 'director', 'cast', 'country', 'date_added',\n",
       "       'release_year', 'rating', 'duration', 'listed_in', 'description'],\n",
       "      dtype='object')"
      ]
     },
     "execution_count": 7,
     "metadata": {},
     "output_type": "execute_result"
    }
   ],
   "source": [
    "df.columns"
   ]
  },
  {
   "cell_type": "code",
   "execution_count": 8,
   "id": "d27d01a9",
   "metadata": {
    "execution": {
     "iopub.execute_input": "2023-10-07T09:29:22.640352Z",
     "iopub.status.busy": "2023-10-07T09:29:22.639966Z",
     "iopub.status.idle": "2023-10-07T09:29:22.649156Z",
     "shell.execute_reply": "2023-10-07T09:29:22.647476Z"
    },
    "papermill": {
     "duration": 0.019287,
     "end_time": "2023-10-07T09:29:22.651595",
     "exception": false,
     "start_time": "2023-10-07T09:29:22.632308",
     "status": "completed"
    },
    "tags": []
   },
   "outputs": [
    {
     "data": {
      "text/plain": [
       "show_id         object\n",
       "type            object\n",
       "title           object\n",
       "director        object\n",
       "cast            object\n",
       "country         object\n",
       "date_added      object\n",
       "release_year     int64\n",
       "rating          object\n",
       "duration        object\n",
       "listed_in       object\n",
       "description     object\n",
       "dtype: object"
      ]
     },
     "execution_count": 8,
     "metadata": {},
     "output_type": "execute_result"
    }
   ],
   "source": [
    "df.dtypes"
   ]
  },
  {
   "cell_type": "code",
   "execution_count": 9,
   "id": "289771de",
   "metadata": {
    "execution": {
     "iopub.execute_input": "2023-10-07T09:29:22.666901Z",
     "iopub.status.busy": "2023-10-07T09:29:22.666560Z",
     "iopub.status.idle": "2023-10-07T09:29:22.707751Z",
     "shell.execute_reply": "2023-10-07T09:29:22.706168Z"
    },
    "papermill": {
     "duration": 0.052759,
     "end_time": "2023-10-07T09:29:22.710715",
     "exception": false,
     "start_time": "2023-10-07T09:29:22.657956",
     "status": "completed"
    },
    "tags": []
   },
   "outputs": [
    {
     "data": {
      "text/plain": [
       "show_id         9668\n",
       "type               2\n",
       "title           9668\n",
       "director        5773\n",
       "cast            7927\n",
       "country           86\n",
       "date_added        84\n",
       "release_year     100\n",
       "rating            24\n",
       "duration         219\n",
       "listed_in        518\n",
       "description     9414\n",
       "dtype: int64"
      ]
     },
     "execution_count": 9,
     "metadata": {},
     "output_type": "execute_result"
    }
   ],
   "source": [
    "df.nunique()"
   ]
  },
  {
   "cell_type": "code",
   "execution_count": 10,
   "id": "1062adae",
   "metadata": {
    "execution": {
     "iopub.execute_input": "2023-10-07T09:29:22.725880Z",
     "iopub.status.busy": "2023-10-07T09:29:22.725497Z",
     "iopub.status.idle": "2023-10-07T09:29:22.734980Z",
     "shell.execute_reply": "2023-10-07T09:29:22.733601Z"
    },
    "papermill": {
     "duration": 0.020477,
     "end_time": "2023-10-07T09:29:22.737867",
     "exception": false,
     "start_time": "2023-10-07T09:29:22.717390",
     "status": "completed"
    },
    "tags": []
   },
   "outputs": [
    {
     "data": {
      "text/plain": [
       "array(['Don McKellar', 'Girish Joshi', 'Josh Webber', ...,\n",
       "       'John-Paul Davidson, Stephen Warbeck', 'Emily Skye',\n",
       "       'Steve Barker'], dtype=object)"
      ]
     },
     "execution_count": 10,
     "metadata": {},
     "output_type": "execute_result"
    }
   ],
   "source": [
    "df['director'].unique()"
   ]
  },
  {
   "cell_type": "code",
   "execution_count": 11,
   "id": "f4675a54",
   "metadata": {
    "execution": {
     "iopub.execute_input": "2023-10-07T09:29:22.753494Z",
     "iopub.status.busy": "2023-10-07T09:29:22.752663Z",
     "iopub.status.idle": "2023-10-07T09:29:22.773689Z",
     "shell.execute_reply": "2023-10-07T09:29:22.772241Z"
    },
    "papermill": {
     "duration": 0.031927,
     "end_time": "2023-10-07T09:29:22.776458",
     "exception": false,
     "start_time": "2023-10-07T09:29:22.744531",
     "status": "completed"
    },
    "tags": []
   },
   "outputs": [
    {
     "data": {
      "text/html": [
       "<div>\n",
       "<style scoped>\n",
       "    .dataframe tbody tr th:only-of-type {\n",
       "        vertical-align: middle;\n",
       "    }\n",
       "\n",
       "    .dataframe tbody tr th {\n",
       "        vertical-align: top;\n",
       "    }\n",
       "\n",
       "    .dataframe thead th {\n",
       "        text-align: right;\n",
       "    }\n",
       "</style>\n",
       "<table border=\"1\" class=\"dataframe\">\n",
       "  <thead>\n",
       "    <tr style=\"text-align: right;\">\n",
       "      <th></th>\n",
       "      <th>release_year</th>\n",
       "    </tr>\n",
       "  </thead>\n",
       "  <tbody>\n",
       "    <tr>\n",
       "      <th>count</th>\n",
       "      <td>9668.000000</td>\n",
       "    </tr>\n",
       "    <tr>\n",
       "      <th>mean</th>\n",
       "      <td>2008.341849</td>\n",
       "    </tr>\n",
       "    <tr>\n",
       "      <th>std</th>\n",
       "      <td>18.922482</td>\n",
       "    </tr>\n",
       "    <tr>\n",
       "      <th>min</th>\n",
       "      <td>1920.000000</td>\n",
       "    </tr>\n",
       "    <tr>\n",
       "      <th>25%</th>\n",
       "      <td>2007.000000</td>\n",
       "    </tr>\n",
       "    <tr>\n",
       "      <th>50%</th>\n",
       "      <td>2016.000000</td>\n",
       "    </tr>\n",
       "    <tr>\n",
       "      <th>75%</th>\n",
       "      <td>2019.000000</td>\n",
       "    </tr>\n",
       "    <tr>\n",
       "      <th>max</th>\n",
       "      <td>2021.000000</td>\n",
       "    </tr>\n",
       "  </tbody>\n",
       "</table>\n",
       "</div>"
      ],
      "text/plain": [
       "       release_year\n",
       "count   9668.000000\n",
       "mean    2008.341849\n",
       "std       18.922482\n",
       "min     1920.000000\n",
       "25%     2007.000000\n",
       "50%     2016.000000\n",
       "75%     2019.000000\n",
       "max     2021.000000"
      ]
     },
     "execution_count": 11,
     "metadata": {},
     "output_type": "execute_result"
    }
   ],
   "source": [
    "df.describe()"
   ]
  },
  {
   "cell_type": "code",
   "execution_count": 12,
   "id": "7d1b1de7",
   "metadata": {
    "execution": {
     "iopub.execute_input": "2023-10-07T09:29:22.792530Z",
     "iopub.status.busy": "2023-10-07T09:29:22.792161Z",
     "iopub.status.idle": "2023-10-07T09:29:22.810085Z",
     "shell.execute_reply": "2023-10-07T09:29:22.808709Z"
    },
    "papermill": {
     "duration": 0.029746,
     "end_time": "2023-10-07T09:29:22.813086",
     "exception": false,
     "start_time": "2023-10-07T09:29:22.783340",
     "status": "completed"
    },
    "tags": []
   },
   "outputs": [
    {
     "data": {
      "text/plain": [
       "director\n",
       "Mark Knight              113\n",
       "Cannis Holder             61\n",
       "Moonbug Entertainment     37\n",
       "Jay Chapman               34\n",
       "Arthur van Merwijk        30\n",
       "                        ... \n",
       "Karyn Kusama               1\n",
       "K. Subash                  1\n",
       "Robert Cuffley             1\n",
       "J. Sabarish                1\n",
       "Steve Barker               1\n",
       "Name: count, Length: 5773, dtype: int64"
      ]
     },
     "execution_count": 12,
     "metadata": {},
     "output_type": "execute_result"
    }
   ],
   "source": [
    "df['director'].value_counts()"
   ]
  },
  {
   "cell_type": "code",
   "execution_count": 13,
   "id": "d4b7f351",
   "metadata": {
    "execution": {
     "iopub.execute_input": "2023-10-07T09:29:22.829155Z",
     "iopub.status.busy": "2023-10-07T09:29:22.828689Z",
     "iopub.status.idle": "2023-10-07T09:29:22.859970Z",
     "shell.execute_reply": "2023-10-07T09:29:22.858267Z"
    },
    "papermill": {
     "duration": 0.042703,
     "end_time": "2023-10-07T09:29:22.862884",
     "exception": false,
     "start_time": "2023-10-07T09:29:22.820181",
     "status": "completed"
    },
    "tags": []
   },
   "outputs": [
    {
     "name": "stdout",
     "output_type": "stream",
     "text": [
      "<class 'pandas.core.frame.DataFrame'>\n",
      "RangeIndex: 9668 entries, 0 to 9667\n",
      "Data columns (total 12 columns):\n",
      " #   Column        Non-Null Count  Dtype \n",
      "---  ------        --------------  ----- \n",
      " 0   show_id       9668 non-null   object\n",
      " 1   type          9668 non-null   object\n",
      " 2   title         9668 non-null   object\n",
      " 3   director      7585 non-null   object\n",
      " 4   cast          8435 non-null   object\n",
      " 5   country       672 non-null    object\n",
      " 6   date_added    155 non-null    object\n",
      " 7   release_year  9668 non-null   int64 \n",
      " 8   rating        9331 non-null   object\n",
      " 9   duration      9668 non-null   object\n",
      " 10  listed_in     9668 non-null   object\n",
      " 11  description   9668 non-null   object\n",
      "dtypes: int64(1), object(11)\n",
      "memory usage: 906.5+ KB\n"
     ]
    }
   ],
   "source": [
    "df.info()"
   ]
  },
  {
   "cell_type": "code",
   "execution_count": 14,
   "id": "f0393343",
   "metadata": {
    "execution": {
     "iopub.execute_input": "2023-10-07T09:29:22.881903Z",
     "iopub.status.busy": "2023-10-07T09:29:22.881484Z",
     "iopub.status.idle": "2023-10-07T09:29:23.536676Z",
     "shell.execute_reply": "2023-10-07T09:29:23.535495Z"
    },
    "papermill": {
     "duration": 0.667276,
     "end_time": "2023-10-07T09:29:23.539266",
     "exception": false,
     "start_time": "2023-10-07T09:29:22.871990",
     "status": "completed"
    },
    "tags": []
   },
   "outputs": [
    {
     "data": {
      "image/png": "[encoded data removed]",
      "text/plain": [
       "<Figure size 640x480 with 2 Axes>"
      ]
     },
     "metadata": {},
     "output_type": "display_data"
    }
   ],
   "source": [
    "sns.heatmap(df.isnull())\n",
    "plt.show()"
   ]
  },
  {
   "cell_type": "markdown",
   "id": "ce4a35c5",
   "metadata": {
    "papermill": {
     "duration": 0.007202,
     "end_time": "2023-10-07T09:29:23.554259",
     "exception": false,
     "start_time": "2023-10-07T09:29:23.547057",
     "status": "completed"
    },
    "tags": []
   },
   "source": [
    "# In which year highest number of tv shows and movies were released."
   ]
  },
  {
   "cell_type": "code",
   "execution_count": 15,
   "id": "4c8fd223",
   "metadata": {
    "execution": {
     "iopub.execute_input": "2023-10-07T09:29:23.572141Z",
     "iopub.status.busy": "2023-10-07T09:29:23.571159Z",
     "iopub.status.idle": "2023-10-07T09:29:23.581125Z",
     "shell.execute_reply": "2023-10-07T09:29:23.579863Z"
    },
    "papermill": {
     "duration": 0.021521,
     "end_time": "2023-10-07T09:29:23.583318",
     "exception": false,
     "start_time": "2023-10-07T09:29:23.561797",
     "status": "completed"
    },
    "tags": []
   },
   "outputs": [
    {
     "data": {
      "text/plain": [
       "release_year\n",
       "2021    1442\n",
       "2020     962\n",
       "2019     929\n",
       "2018     623\n",
       "2017     562\n",
       "        ... \n",
       "1922       2\n",
       "1926       2\n",
       "1924       1\n",
       "1923       1\n",
       "1927       1\n",
       "Name: count, Length: 100, dtype: int64"
      ]
     },
     "execution_count": 15,
     "metadata": {},
     "output_type": "execute_result"
    }
   ],
   "source": [
    "df.release_year.value_counts()"
   ]
  },
  {
   "cell_type": "markdown",
   "id": "2ba9d478",
   "metadata": {
    "papermill": {
     "duration": 0.007765,
     "end_time": "2023-10-07T09:29:23.599333",
     "exception": false,
     "start_time": "2023-10-07T09:29:23.591568",
     "status": "completed"
    },
    "tags": []
   },
   "source": [
    "# How many movies and tv shows are in the dataset"
   ]
  },
  {
   "cell_type": "code",
   "execution_count": 16,
   "id": "67815c59",
   "metadata": {
    "execution": {
     "iopub.execute_input": "2023-10-07T09:29:23.616154Z",
     "iopub.status.busy": "2023-10-07T09:29:23.615721Z",
     "iopub.status.idle": "2023-10-07T09:29:23.624291Z",
     "shell.execute_reply": "2023-10-07T09:29:23.623346Z"
    },
    "papermill": {
     "duration": 0.019305,
     "end_time": "2023-10-07T09:29:23.626201",
     "exception": false,
     "start_time": "2023-10-07T09:29:23.606896",
     "status": "completed"
    },
    "tags": []
   },
   "outputs": [
    {
     "data": {
      "text/plain": [
       "type\n",
       "Movie      7814\n",
       "TV Show    1854\n",
       "Name: count, dtype: int64"
      ]
     },
     "execution_count": 16,
     "metadata": {},
     "output_type": "execute_result"
    }
   ],
   "source": [
    "df.type.value_counts()"
   ]
  },
  {
   "cell_type": "code",
   "execution_count": 17,
   "id": "d5d52039",
   "metadata": {
    "execution": {
     "iopub.execute_input": "2023-10-07T09:29:23.645651Z",
     "iopub.status.busy": "2023-10-07T09:29:23.644215Z",
     "iopub.status.idle": "2023-10-07T09:29:23.890680Z",
     "shell.execute_reply": "2023-10-07T09:29:23.889142Z"
    },
    "papermill": {
     "duration": 0.258874,
     "end_time": "2023-10-07T09:29:23.892933",
     "exception": false,
     "start_time": "2023-10-07T09:29:23.634059",
     "status": "completed"
    },
    "tags": []
   },
   "outputs": [
    {
     "data": {
      "text/plain": [
       "<Axes: xlabel='type', ylabel='count'>"
      ]
     },
     "execution_count": 17,
     "metadata": {},
     "output_type": "execute_result"
    },
    {
     "data": {
      "image/png": "[encoded data removed]",
      "text/plain": [
       "<Figure size 640x480 with 1 Axes>"
      ]
     },
     "metadata": {},
     "output_type": "display_data"
    }
   ],
   "source": [
    "sns.countplot(data = df, x = df['type'])"
   ]
  },
  {
   "cell_type": "markdown",
   "id": "990ce2b3",
   "metadata": {
    "papermill": {
     "duration": 0.007799,
     "end_time": "2023-10-07T09:29:23.908873",
     "exception": false,
     "start_time": "2023-10-07T09:29:23.901074",
     "status": "completed"
    },
    "tags": []
   },
   "source": [
    "# show all records type is \"movies\" and country is \"United Kingdom\"."
   ]
  },
  {
   "cell_type": "code",
   "execution_count": 18,
   "id": "911141a4",
   "metadata": {
    "execution": {
     "iopub.execute_input": "2023-10-07T09:29:23.926906Z",
     "iopub.status.busy": "2023-10-07T09:29:23.926567Z",
     "iopub.status.idle": "2023-10-07T09:29:23.947509Z",
     "shell.execute_reply": "2023-10-07T09:29:23.946687Z"
    },
    "papermill": {
     "duration": 0.032202,
     "end_time": "2023-10-07T09:29:23.949318",
     "exception": false,
     "start_time": "2023-10-07T09:29:23.917116",
     "status": "completed"
    },
    "tags": []
   },
   "outputs": [
    {
     "data": {
      "text/html": [
       "<div>\n",
       "<style scoped>\n",
       "    .dataframe tbody tr th:only-of-type {\n",
       "        vertical-align: middle;\n",
       "    }\n",
       "\n",
       "    .dataframe tbody tr th {\n",
       "        vertical-align: top;\n",
       "    }\n",
       "\n",
       "    .dataframe thead th {\n",
       "        text-align: right;\n",
       "    }\n",
       "</style>\n",
       "<table border=\"1\" class=\"dataframe\">\n",
       "  <thead>\n",
       "    <tr style=\"text-align: right;\">\n",
       "      <th></th>\n",
       "      <th>show_id</th>\n",
       "      <th>type</th>\n",
       "      <th>title</th>\n",
       "      <th>director</th>\n",
       "      <th>cast</th>\n",
       "      <th>country</th>\n",
       "      <th>date_added</th>\n",
       "      <th>release_year</th>\n",
       "      <th>rating</th>\n",
       "      <th>duration</th>\n",
       "      <th>listed_in</th>\n",
       "      <th>description</th>\n",
       "    </tr>\n",
       "  </thead>\n",
       "  <tbody>\n",
       "    <tr>\n",
       "      <th>4</th>\n",
       "      <td>s5</td>\n",
       "      <td>Movie</td>\n",
       "      <td>Monster Maker</td>\n",
       "      <td>Giles Foster</td>\n",
       "      <td>Harry Dean Stanton, Kieran O'Brien, George Cos...</td>\n",
       "      <td>United Kingdom</td>\n",
       "      <td>March 30, 2021</td>\n",
       "      <td>1989</td>\n",
       "      <td>NaN</td>\n",
       "      <td>45 min</td>\n",
       "      <td>Drama, Fantasy</td>\n",
       "      <td>Teenage Matt Banting wants to work with a famo...</td>\n",
       "    </tr>\n",
       "    <tr>\n",
       "      <th>5</th>\n",
       "      <td>s6</td>\n",
       "      <td>Movie</td>\n",
       "      <td>Living With Dinosaurs</td>\n",
       "      <td>Paul Weiland</td>\n",
       "      <td>Gregory Chisholm, Juliet Stevenson, Brian Hens...</td>\n",
       "      <td>United Kingdom</td>\n",
       "      <td>March 30, 2021</td>\n",
       "      <td>1989</td>\n",
       "      <td>NaN</td>\n",
       "      <td>52 min</td>\n",
       "      <td>Fantasy, Kids</td>\n",
       "      <td>The story unfolds in a an English seaside town...</td>\n",
       "    </tr>\n",
       "    <tr>\n",
       "      <th>14</th>\n",
       "      <td>s15</td>\n",
       "      <td>Movie</td>\n",
       "      <td>Elon Musk: The Real Life Iron Man</td>\n",
       "      <td>Sonia Anderson</td>\n",
       "      <td>Elon Musk, Per Wimmer, Julie Anderson-Ankenbra...</td>\n",
       "      <td>United Kingdom</td>\n",
       "      <td>May 2, 2021</td>\n",
       "      <td>2018</td>\n",
       "      <td>NaN</td>\n",
       "      <td>74 min</td>\n",
       "      <td>Documentary</td>\n",
       "      <td>Discover the meteoric rise of Elon Musk, the m...</td>\n",
       "    </tr>\n",
       "    <tr>\n",
       "      <th>374</th>\n",
       "      <td>s375</td>\n",
       "      <td>Movie</td>\n",
       "      <td>The Zombie King</td>\n",
       "      <td>Aidan Belizaire</td>\n",
       "      <td>Edward Furlong, Corey Feldman, George McCluskey</td>\n",
       "      <td>United Kingdom</td>\n",
       "      <td>NaN</td>\n",
       "      <td>2013</td>\n",
       "      <td>16+</td>\n",
       "      <td>96 min</td>\n",
       "      <td>Comedy, Horror</td>\n",
       "      <td>After heartbroken widower Samuel makes a deal ...</td>\n",
       "    </tr>\n",
       "    <tr>\n",
       "      <th>656</th>\n",
       "      <td>s657</td>\n",
       "      <td>Movie</td>\n",
       "      <td>The Flaw</td>\n",
       "      <td>David Sington</td>\n",
       "      <td>Andrew Luan, Robert Shiller, Louis Hyman</td>\n",
       "      <td>United Kingdom</td>\n",
       "      <td>NaN</td>\n",
       "      <td>2011</td>\n",
       "      <td>13+</td>\n",
       "      <td>81 min</td>\n",
       "      <td>Special Interest</td>\n",
       "      <td>The definitive doc on the 2008 financial crash...</td>\n",
       "    </tr>\n",
       "    <tr>\n",
       "      <th>892</th>\n",
       "      <td>s893</td>\n",
       "      <td>Movie</td>\n",
       "      <td>Stick Man</td>\n",
       "      <td>Jeroen Jaspaert, Daniel Snaddon</td>\n",
       "      <td>Martin Freeman, Jennifer Saunders, Russell Tov...</td>\n",
       "      <td>United Kingdom</td>\n",
       "      <td>NaN</td>\n",
       "      <td>2015</td>\n",
       "      <td>ALL</td>\n",
       "      <td>27 min</td>\n",
       "      <td>Adventure, Animation, Kids</td>\n",
       "      <td>A half-hour animation based on the much-loved ...</td>\n",
       "    </tr>\n",
       "    <tr>\n",
       "      <th>2095</th>\n",
       "      <td>s2096</td>\n",
       "      <td>Movie</td>\n",
       "      <td>Instant Death</td>\n",
       "      <td>Ara Paiaya</td>\n",
       "      <td>Lou Ferrigno</td>\n",
       "      <td>United Kingdom</td>\n",
       "      <td>NaN</td>\n",
       "      <td>2017</td>\n",
       "      <td>18+</td>\n",
       "      <td>84 min</td>\n",
       "      <td>Action</td>\n",
       "      <td>A gang war for drug dominance draws in a distu...</td>\n",
       "    </tr>\n",
       "    <tr>\n",
       "      <th>2364</th>\n",
       "      <td>s2365</td>\n",
       "      <td>Movie</td>\n",
       "      <td>Get Duked!</td>\n",
       "      <td>Ninian Doff</td>\n",
       "      <td>Eddie Izzard, Kate Dickie, James Cosmo, Samuel...</td>\n",
       "      <td>United Kingdom</td>\n",
       "      <td>NaN</td>\n",
       "      <td>2020</td>\n",
       "      <td>16+</td>\n",
       "      <td>87 min</td>\n",
       "      <td>Adventure, Comedy</td>\n",
       "      <td>Get Duked is an anarchic, hip-hop inspired com...</td>\n",
       "    </tr>\n",
       "    <tr>\n",
       "      <th>2381</th>\n",
       "      <td>s2382</td>\n",
       "      <td>Movie</td>\n",
       "      <td>Gascoigne</td>\n",
       "      <td>Jane Preston</td>\n",
       "      <td>Paul Gascoigne, Vinnie Jones, Gary Lineker, Jo...</td>\n",
       "      <td>United Kingdom</td>\n",
       "      <td>NaN</td>\n",
       "      <td>2015</td>\n",
       "      <td>16+</td>\n",
       "      <td>87 min</td>\n",
       "      <td>Documentary</td>\n",
       "      <td>Celebrating the life and achievements of natur...</td>\n",
       "    </tr>\n",
       "    <tr>\n",
       "      <th>2534</th>\n",
       "      <td>s2535</td>\n",
       "      <td>Movie</td>\n",
       "      <td>Everybody's Game</td>\n",
       "      <td>Beno Obano</td>\n",
       "      <td>Maro Itoje, Beno Obano, Anthony Watson, Ellis ...</td>\n",
       "      <td>United Kingdom</td>\n",
       "      <td>NaN</td>\n",
       "      <td>2020</td>\n",
       "      <td>16+</td>\n",
       "      <td>53 min</td>\n",
       "      <td>Documentary</td>\n",
       "      <td>Coming from the most unlikely of rugby playing...</td>\n",
       "    </tr>\n",
       "    <tr>\n",
       "      <th>2809</th>\n",
       "      <td>s2810</td>\n",
       "      <td>Movie</td>\n",
       "      <td>Coldplay: A Head Full Of Dreams</td>\n",
       "      <td>Mat Whitecross</td>\n",
       "      <td>Guy Berryman, Jonny Buckland, Will Champion, C...</td>\n",
       "      <td>United Kingdom</td>\n",
       "      <td>NaN</td>\n",
       "      <td>2018</td>\n",
       "      <td>PG-13</td>\n",
       "      <td>105 min</td>\n",
       "      <td>Documentary, Music Videos and Concerts</td>\n",
       "      <td>Long-term Coldplay collaborator Mat Whitecross...</td>\n",
       "    </tr>\n",
       "    <tr>\n",
       "      <th>3140</th>\n",
       "      <td>s3141</td>\n",
       "      <td>Movie</td>\n",
       "      <td>Bastille - ReOrchestrated</td>\n",
       "      <td>Tom Middleton, Toby L</td>\n",
       "      <td>Bastille</td>\n",
       "      <td>United Kingdom</td>\n",
       "      <td>NaN</td>\n",
       "      <td>2021</td>\n",
       "      <td>16+</td>\n",
       "      <td>71 min</td>\n",
       "      <td>Documentary, Music Videos and Concerts</td>\n",
       "      <td>A bracingly honest new documentary sourced fro...</td>\n",
       "    </tr>\n",
       "    <tr>\n",
       "      <th>3258</th>\n",
       "      <td>s3259</td>\n",
       "      <td>Movie</td>\n",
       "      <td>Andy Murray: Resurfacing</td>\n",
       "      <td>Olivia Cappuccini</td>\n",
       "      <td>Andy Murray</td>\n",
       "      <td>United Kingdom</td>\n",
       "      <td>NaN</td>\n",
       "      <td>2019</td>\n",
       "      <td>16+</td>\n",
       "      <td>109 min</td>\n",
       "      <td>Documentary</td>\n",
       "      <td>A documentary film that tracks the tennis star...</td>\n",
       "    </tr>\n",
       "    <tr>\n",
       "      <th>3443</th>\n",
       "      <td>s3444</td>\n",
       "      <td>Movie</td>\n",
       "      <td>9/11 Phone Calls from the Towers</td>\n",
       "      <td>James Kent</td>\n",
       "      <td>Steven Mackintosh</td>\n",
       "      <td>United Kingdom</td>\n",
       "      <td>NaN</td>\n",
       "      <td>2009</td>\n",
       "      <td>16+</td>\n",
       "      <td>74 min</td>\n",
       "      <td>Documentary, Special Interest</td>\n",
       "      <td>September 11th 2001 is the most terrifying and...</td>\n",
       "    </tr>\n",
       "    <tr>\n",
       "      <th>3955</th>\n",
       "      <td>s3956</td>\n",
       "      <td>Movie</td>\n",
       "      <td>Peterloo</td>\n",
       "      <td>Mike Leigh</td>\n",
       "      <td>Rory Kinnear, Maxine Peake, Neil Bell, Philip ...</td>\n",
       "      <td>United Kingdom</td>\n",
       "      <td>NaN</td>\n",
       "      <td>2019</td>\n",
       "      <td>PG-13</td>\n",
       "      <td>154 min</td>\n",
       "      <td>Drama</td>\n",
       "      <td>Included with your Prime membership. Internati...</td>\n",
       "    </tr>\n",
       "    <tr>\n",
       "      <th>3959</th>\n",
       "      <td>s3960</td>\n",
       "      <td>Movie</td>\n",
       "      <td>My Dad's Christmas Date</td>\n",
       "      <td>Mick Davis</td>\n",
       "      <td>Jeremy Piven, Olivia Mai Barrett, Hadar Cats, ...</td>\n",
       "      <td>United Kingdom</td>\n",
       "      <td>NaN</td>\n",
       "      <td>2020</td>\n",
       "      <td>13+</td>\n",
       "      <td>91 min</td>\n",
       "      <td>Comedy</td>\n",
       "      <td>It's Christmas in York. Jules, 16, knows all s...</td>\n",
       "    </tr>\n",
       "    <tr>\n",
       "      <th>4210</th>\n",
       "      <td>s4211</td>\n",
       "      <td>Movie</td>\n",
       "      <td>Andy Murray: Resurfacing (4K UHD)</td>\n",
       "      <td>Olivia Cappuccini</td>\n",
       "      <td>Andy Murray</td>\n",
       "      <td>United Kingdom</td>\n",
       "      <td>NaN</td>\n",
       "      <td>2019</td>\n",
       "      <td>16+</td>\n",
       "      <td>109 min</td>\n",
       "      <td>Documentary</td>\n",
       "      <td>A documentary film that tracks the tennis star...</td>\n",
       "    </tr>\n",
       "    <tr>\n",
       "      <th>4288</th>\n",
       "      <td>s4289</td>\n",
       "      <td>Movie</td>\n",
       "      <td>Garnet's Gold</td>\n",
       "      <td>Ed Perkins</td>\n",
       "      <td>Garnet Frost</td>\n",
       "      <td>United Kingdom</td>\n",
       "      <td>NaN</td>\n",
       "      <td>2019</td>\n",
       "      <td>13+</td>\n",
       "      <td>76 min</td>\n",
       "      <td>Documentary</td>\n",
       "      <td>20 years ago, Garnet Frost got lost in the des...</td>\n",
       "    </tr>\n",
       "    <tr>\n",
       "      <th>4609</th>\n",
       "      <td>s4610</td>\n",
       "      <td>Movie</td>\n",
       "      <td>Winter Warrior</td>\n",
       "      <td>Robbie Moffat</td>\n",
       "      <td>James Watson, Victoria Pritchard, Ilaria D'Eli...</td>\n",
       "      <td>United Kingdom</td>\n",
       "      <td>NaN</td>\n",
       "      <td>2003</td>\n",
       "      <td>16+</td>\n",
       "      <td>91 min</td>\n",
       "      <td>Action, Adventure, Drama</td>\n",
       "      <td>In the autumn of 573AD, the eight-year civil w...</td>\n",
       "    </tr>\n",
       "    <tr>\n",
       "      <th>5223</th>\n",
       "      <td>s5224</td>\n",
       "      <td>Movie</td>\n",
       "      <td>Once Upon a Time in London</td>\n",
       "      <td>Simon Rumley</td>\n",
       "      <td>Terry Stone, Leo Gregory, Jamie Foreman</td>\n",
       "      <td>United Kingdom</td>\n",
       "      <td>NaN</td>\n",
       "      <td>2019</td>\n",
       "      <td>NR</td>\n",
       "      <td>111 min</td>\n",
       "      <td>Action, Drama, Suspense</td>\n",
       "      <td>The violent reign of two of London's most noto...</td>\n",
       "    </tr>\n",
       "    <tr>\n",
       "      <th>5560</th>\n",
       "      <td>s5561</td>\n",
       "      <td>Movie</td>\n",
       "      <td>Split Second</td>\n",
       "      <td>Tony Maylam</td>\n",
       "      <td>Rutger Hauer, Kim Catrall, Michael J. Pollard,...</td>\n",
       "      <td>United Kingdom</td>\n",
       "      <td>NaN</td>\n",
       "      <td>1992</td>\n",
       "      <td>R</td>\n",
       "      <td>91 min</td>\n",
       "      <td>Horror, Science Fiction</td>\n",
       "      <td>In a flooded dystopian future, Detective Harle...</td>\n",
       "    </tr>\n",
       "    <tr>\n",
       "      <th>7752</th>\n",
       "      <td>s7753</td>\n",
       "      <td>Movie</td>\n",
       "      <td>Conjuring the Genie</td>\n",
       "      <td>Scott Jeffrey</td>\n",
       "      <td>Sarah T. Cohen, Megan Purvis, Barbara Dabson, ...</td>\n",
       "      <td>United Kingdom</td>\n",
       "      <td>NaN</td>\n",
       "      <td>2021</td>\n",
       "      <td>18+</td>\n",
       "      <td>91 min</td>\n",
       "      <td>Horror, Suspense</td>\n",
       "      <td>A young lady unleashes a demonic Genie from an...</td>\n",
       "    </tr>\n",
       "    <tr>\n",
       "      <th>8088</th>\n",
       "      <td>s8089</td>\n",
       "      <td>Movie</td>\n",
       "      <td>Scenes of a Sexual Nature</td>\n",
       "      <td>Ed Blum</td>\n",
       "      <td>Tom Hardy, Ewan McGregor, Mark Strong, Andrew ...</td>\n",
       "      <td>United Kingdom</td>\n",
       "      <td>NaN</td>\n",
       "      <td>2006</td>\n",
       "      <td>16+</td>\n",
       "      <td>92 min</td>\n",
       "      <td>Comedy, Drama, Romance</td>\n",
       "      <td>This British comedy stars an incredible home-g...</td>\n",
       "    </tr>\n",
       "    <tr>\n",
       "      <th>8780</th>\n",
       "      <td>s8781</td>\n",
       "      <td>Movie</td>\n",
       "      <td>Attack the Block</td>\n",
       "      <td>Joe Cornish</td>\n",
       "      <td>Adam Buxton, Jodie Whittaker, John Boyega, Ale...</td>\n",
       "      <td>United Kingdom</td>\n",
       "      <td>NaN</td>\n",
       "      <td>2011</td>\n",
       "      <td>R</td>\n",
       "      <td>88 min</td>\n",
       "      <td>Action, Adventure, Science Fiction</td>\n",
       "      <td>Attack the Block' is a fast, funny, frightenin...</td>\n",
       "    </tr>\n",
       "  </tbody>\n",
       "</table>\n",
       "</div>"
      ],
      "text/plain": [
       "     show_id   type                              title  \\\n",
       "4         s5  Movie                      Monster Maker   \n",
       "5         s6  Movie              Living With Dinosaurs   \n",
       "14       s15  Movie  Elon Musk: The Real Life Iron Man   \n",
       "374     s375  Movie                    The Zombie King   \n",
       "656     s657  Movie                           The Flaw   \n",
       "892     s893  Movie                          Stick Man   \n",
       "2095   s2096  Movie                      Instant Death   \n",
       "2364   s2365  Movie                         Get Duked!   \n",
       "2381   s2382  Movie                          Gascoigne   \n",
       "2534   s2535  Movie                   Everybody's Game   \n",
       "2809   s2810  Movie    Coldplay: A Head Full Of Dreams   \n",
       "3140   s3141  Movie          Bastille - ReOrchestrated   \n",
       "3258   s3259  Movie           Andy Murray: Resurfacing   \n",
       "3443   s3444  Movie   9/11 Phone Calls from the Towers   \n",
       "3955   s3956  Movie                           Peterloo   \n",
       "3959   s3960  Movie            My Dad's Christmas Date   \n",
       "4210   s4211  Movie  Andy Murray: Resurfacing (4K UHD)   \n",
       "4288   s4289  Movie                      Garnet's Gold   \n",
       "4609   s4610  Movie                     Winter Warrior   \n",
       "5223   s5224  Movie         Once Upon a Time in London   \n",
       "5560   s5561  Movie                       Split Second   \n",
       "7752   s7753  Movie                Conjuring the Genie   \n",
       "8088   s8089  Movie          Scenes of a Sexual Nature   \n",
       "8780   s8781  Movie                   Attack the Block   \n",
       "\n",
       "                             director  \\\n",
       "4                        Giles Foster   \n",
       "5                        Paul Weiland   \n",
       "14                     Sonia Anderson   \n",
       "374                   Aidan Belizaire   \n",
       "656                     David Sington   \n",
       "892   Jeroen Jaspaert, Daniel Snaddon   \n",
       "2095                       Ara Paiaya   \n",
       "2364                      Ninian Doff   \n",
       "2381                     Jane Preston   \n",
       "2534                       Beno Obano   \n",
       "2809                   Mat Whitecross   \n",
       "3140            Tom Middleton, Toby L   \n",
       "3258                Olivia Cappuccini   \n",
       "3443                       James Kent   \n",
       "3955                       Mike Leigh   \n",
       "3959                       Mick Davis   \n",
       "4210                Olivia Cappuccini   \n",
       "4288                       Ed Perkins   \n",
       "4609                    Robbie Moffat   \n",
       "5223                     Simon Rumley   \n",
       "5560                      Tony Maylam   \n",
       "7752                    Scott Jeffrey   \n",
       "8088                          Ed Blum   \n",
       "8780                      Joe Cornish   \n",
       "\n",
       "                                                   cast         country  \\\n",
       "4     Harry Dean Stanton, Kieran O'Brien, George Cos...  United Kingdom   \n",
       "5     Gregory Chisholm, Juliet Stevenson, Brian Hens...  United Kingdom   \n",
       "14    Elon Musk, Per Wimmer, Julie Anderson-Ankenbra...  United Kingdom   \n",
       "374     Edward Furlong, Corey Feldman, George McCluskey  United Kingdom   \n",
       "656            Andrew Luan, Robert Shiller, Louis Hyman  United Kingdom   \n",
       "892   Martin Freeman, Jennifer Saunders, Russell Tov...  United Kingdom   \n",
       "2095                                       Lou Ferrigno  United Kingdom   \n",
       "2364  Eddie Izzard, Kate Dickie, James Cosmo, Samuel...  United Kingdom   \n",
       "2381  Paul Gascoigne, Vinnie Jones, Gary Lineker, Jo...  United Kingdom   \n",
       "2534  Maro Itoje, Beno Obano, Anthony Watson, Ellis ...  United Kingdom   \n",
       "2809  Guy Berryman, Jonny Buckland, Will Champion, C...  United Kingdom   \n",
       "3140                                           Bastille  United Kingdom   \n",
       "3258                                        Andy Murray  United Kingdom   \n",
       "3443                                  Steven Mackintosh  United Kingdom   \n",
       "3955  Rory Kinnear, Maxine Peake, Neil Bell, Philip ...  United Kingdom   \n",
       "3959  Jeremy Piven, Olivia Mai Barrett, Hadar Cats, ...  United Kingdom   \n",
       "4210                                        Andy Murray  United Kingdom   \n",
       "4288                                       Garnet Frost  United Kingdom   \n",
       "4609  James Watson, Victoria Pritchard, Ilaria D'Eli...  United Kingdom   \n",
       "5223            Terry Stone, Leo Gregory, Jamie Foreman  United Kingdom   \n",
       "5560  Rutger Hauer, Kim Catrall, Michael J. Pollard,...  United Kingdom   \n",
       "7752  Sarah T. Cohen, Megan Purvis, Barbara Dabson, ...  United Kingdom   \n",
       "8088  Tom Hardy, Ewan McGregor, Mark Strong, Andrew ...  United Kingdom   \n",
       "8780  Adam Buxton, Jodie Whittaker, John Boyega, Ale...  United Kingdom   \n",
       "\n",
       "          date_added  release_year rating duration  \\\n",
       "4     March 30, 2021          1989    NaN   45 min   \n",
       "5     March 30, 2021          1989    NaN   52 min   \n",
       "14       May 2, 2021          2018    NaN   74 min   \n",
       "374              NaN          2013    16+   96 min   \n",
       "656              NaN          2011    13+   81 min   \n",
       "892              NaN          2015    ALL   27 min   \n",
       "2095             NaN          2017    18+   84 min   \n",
       "2364             NaN          2020    16+   87 min   \n",
       "2381             NaN          2015    16+   87 min   \n",
       "2534             NaN          2020    16+   53 min   \n",
       "2809             NaN          2018  PG-13  105 min   \n",
       "3140             NaN          2021    16+   71 min   \n",
       "3258             NaN          2019    16+  109 min   \n",
       "3443             NaN          2009    16+   74 min   \n",
       "3955             NaN          2019  PG-13  154 min   \n",
       "3959             NaN          2020    13+   91 min   \n",
       "4210             NaN          2019    16+  109 min   \n",
       "4288             NaN          2019    13+   76 min   \n",
       "4609             NaN          2003    16+   91 min   \n",
       "5223             NaN          2019     NR  111 min   \n",
       "5560             NaN          1992      R   91 min   \n",
       "7752             NaN          2021    18+   91 min   \n",
       "8088             NaN          2006    16+   92 min   \n",
       "8780             NaN          2011      R   88 min   \n",
       "\n",
       "                                   listed_in  \\\n",
       "4                             Drama, Fantasy   \n",
       "5                              Fantasy, Kids   \n",
       "14                               Documentary   \n",
       "374                           Comedy, Horror   \n",
       "656                         Special Interest   \n",
       "892               Adventure, Animation, Kids   \n",
       "2095                                  Action   \n",
       "2364                       Adventure, Comedy   \n",
       "2381                             Documentary   \n",
       "2534                             Documentary   \n",
       "2809  Documentary, Music Videos and Concerts   \n",
       "3140  Documentary, Music Videos and Concerts   \n",
       "3258                             Documentary   \n",
       "3443           Documentary, Special Interest   \n",
       "3955                                   Drama   \n",
       "3959                                  Comedy   \n",
       "4210                             Documentary   \n",
       "4288                             Documentary   \n",
       "4609                Action, Adventure, Drama   \n",
       "5223                 Action, Drama, Suspense   \n",
       "5560                 Horror, Science Fiction   \n",
       "7752                        Horror, Suspense   \n",
       "8088                  Comedy, Drama, Romance   \n",
       "8780      Action, Adventure, Science Fiction   \n",
       "\n",
       "                                            description  \n",
       "4     Teenage Matt Banting wants to work with a famo...  \n",
       "5     The story unfolds in a an English seaside town...  \n",
       "14    Discover the meteoric rise of Elon Musk, the m...  \n",
       "374   After heartbroken widower Samuel makes a deal ...  \n",
       "656   The definitive doc on the 2008 financial crash...  \n",
       "892   A half-hour animation based on the much-loved ...  \n",
       "2095  A gang war for drug dominance draws in a distu...  \n",
       "2364  Get Duked is an anarchic, hip-hop inspired com...  \n",
       "2381  Celebrating the life and achievements of natur...  \n",
       "2534  Coming from the most unlikely of rugby playing...  \n",
       "2809  Long-term Coldplay collaborator Mat Whitecross...  \n",
       "3140  A bracingly honest new documentary sourced fro...  \n",
       "3258  A documentary film that tracks the tennis star...  \n",
       "3443  September 11th 2001 is the most terrifying and...  \n",
       "3955  Included with your Prime membership. Internati...  \n",
       "3959  It's Christmas in York. Jules, 16, knows all s...  \n",
       "4210  A documentary film that tracks the tennis star...  \n",
       "4288  20 years ago, Garnet Frost got lost in the des...  \n",
       "4609  In the autumn of 573AD, the eight-year civil w...  \n",
       "5223  The violent reign of two of London's most noto...  \n",
       "5560  In a flooded dystopian future, Detective Harle...  \n",
       "7752  A young lady unleashes a demonic Genie from an...  \n",
       "8088  This British comedy stars an incredible home-g...  \n",
       "8780  Attack the Block' is a fast, funny, frightenin...  "
      ]
     },
     "execution_count": 18,
     "metadata": {},
     "output_type": "execute_result"
    }
   ],
   "source": [
    "df[(df['type']=='Movie')& (df[\"country\"]==\"United Kingdom\")]"
   ]
  },
  {
   "cell_type": "markdown",
   "id": "e7054f09",
   "metadata": {
    "papermill": {
     "duration": 0.009905,
     "end_time": "2023-10-07T09:29:23.968902",
     "exception": false,
     "start_time": "2023-10-07T09:29:23.958997",
     "status": "completed"
    },
    "tags": []
   },
   "source": [
    "# show all records type is \"movies\" and director is \"Paul Weiland\"."
   ]
  },
  {
   "cell_type": "code",
   "execution_count": 19,
   "id": "eb9770d3",
   "metadata": {
    "execution": {
     "iopub.execute_input": "2023-10-07T09:29:23.989160Z",
     "iopub.status.busy": "2023-10-07T09:29:23.988127Z",
     "iopub.status.idle": "2023-10-07T09:29:24.005972Z",
     "shell.execute_reply": "2023-10-07T09:29:24.004563Z"
    },
    "papermill": {
     "duration": 0.034186,
     "end_time": "2023-10-07T09:29:24.012089",
     "exception": false,
     "start_time": "2023-10-07T09:29:23.977903",
     "status": "completed"
    },
    "tags": []
   },
   "outputs": [
    {
     "data": {
      "text/html": [
       "<div>\n",
       "<style scoped>\n",
       "    .dataframe tbody tr th:only-of-type {\n",
       "        vertical-align: middle;\n",
       "    }\n",
       "\n",
       "    .dataframe tbody tr th {\n",
       "        vertical-align: top;\n",
       "    }\n",
       "\n",
       "    .dataframe thead th {\n",
       "        text-align: right;\n",
       "    }\n",
       "</style>\n",
       "<table border=\"1\" class=\"dataframe\">\n",
       "  <thead>\n",
       "    <tr style=\"text-align: right;\">\n",
       "      <th></th>\n",
       "      <th>show_id</th>\n",
       "      <th>type</th>\n",
       "      <th>title</th>\n",
       "      <th>director</th>\n",
       "      <th>cast</th>\n",
       "      <th>country</th>\n",
       "      <th>date_added</th>\n",
       "      <th>release_year</th>\n",
       "      <th>rating</th>\n",
       "      <th>duration</th>\n",
       "      <th>listed_in</th>\n",
       "      <th>description</th>\n",
       "    </tr>\n",
       "  </thead>\n",
       "  <tbody>\n",
       "    <tr>\n",
       "      <th>5</th>\n",
       "      <td>s6</td>\n",
       "      <td>Movie</td>\n",
       "      <td>Living With Dinosaurs</td>\n",
       "      <td>Paul Weiland</td>\n",
       "      <td>Gregory Chisholm, Juliet Stevenson, Brian Hens...</td>\n",
       "      <td>United Kingdom</td>\n",
       "      <td>March 30, 2021</td>\n",
       "      <td>1989</td>\n",
       "      <td>NaN</td>\n",
       "      <td>52 min</td>\n",
       "      <td>Fantasy, Kids</td>\n",
       "      <td>The story unfolds in a an English seaside town...</td>\n",
       "    </tr>\n",
       "  </tbody>\n",
       "</table>\n",
       "</div>"
      ],
      "text/plain": [
       "  show_id   type                  title      director  \\\n",
       "5      s6  Movie  Living With Dinosaurs  Paul Weiland   \n",
       "\n",
       "                                                cast         country  \\\n",
       "5  Gregory Chisholm, Juliet Stevenson, Brian Hens...  United Kingdom   \n",
       "\n",
       "       date_added  release_year rating duration      listed_in  \\\n",
       "5  March 30, 2021          1989    NaN   52 min  Fantasy, Kids   \n",
       "\n",
       "                                         description  \n",
       "5  The story unfolds in a an English seaside town...  "
      ]
     },
     "execution_count": 19,
     "metadata": {},
     "output_type": "execute_result"
    }
   ],
   "source": [
    "df[(df['type']==\"Movie\")&(df[\"director\"]==\"Paul Weiland\")]"
   ]
  },
  {
   "cell_type": "markdown",
   "id": "1ea9a3a6",
   "metadata": {
    "papermill": {
     "duration": 0.009533,
     "end_time": "2023-10-07T09:29:24.032605",
     "exception": false,
     "start_time": "2023-10-07T09:29:24.023072",
     "status": "completed"
    },
    "tags": []
   },
   "source": [
    "# show top 3 directors, who gave the highest number of tv shows and movies released on prime video"
   ]
  },
  {
   "cell_type": "code",
   "execution_count": 20,
   "id": "c55717b1",
   "metadata": {
    "execution": {
     "iopub.execute_input": "2023-10-07T09:29:24.053700Z",
     "iopub.status.busy": "2023-10-07T09:29:24.053114Z",
     "iopub.status.idle": "2023-10-07T09:29:24.064102Z",
     "shell.execute_reply": "2023-10-07T09:29:24.062890Z"
    },
    "papermill": {
     "duration": 0.024006,
     "end_time": "2023-10-07T09:29:24.066125",
     "exception": false,
     "start_time": "2023-10-07T09:29:24.042119",
     "status": "completed"
    },
    "tags": []
   },
   "outputs": [
    {
     "data": {
      "text/plain": [
       "director\n",
       "Mark Knight              113\n",
       "Cannis Holder             61\n",
       "Moonbug Entertainment     37\n",
       "Name: count, dtype: int64"
      ]
     },
     "execution_count": 20,
     "metadata": {},
     "output_type": "execute_result"
    }
   ],
   "source": [
    "df['director'].value_counts().head(3)"
   ]
  },
  {
   "cell_type": "markdown",
   "id": "eb7a95ac",
   "metadata": {
    "papermill": {
     "duration": 0.00927,
     "end_time": "2023-10-07T09:29:24.085199",
     "exception": false,
     "start_time": "2023-10-07T09:29:24.075929",
     "status": "completed"
    },
    "tags": []
   },
   "source": [
    "# In which year  highest rating ---> show in a plot"
   ]
  },
  {
   "cell_type": "code",
   "execution_count": 21,
   "id": "eaa057b0",
   "metadata": {
    "execution": {
     "iopub.execute_input": "2023-10-07T09:29:24.108002Z",
     "iopub.status.busy": "2023-10-07T09:29:24.106904Z",
     "iopub.status.idle": "2023-10-07T09:29:24.675689Z",
     "shell.execute_reply": "2023-10-07T09:29:24.674504Z"
    },
    "papermill": {
     "duration": 0.583224,
     "end_time": "2023-10-07T09:29:24.678287",
     "exception": false,
     "start_time": "2023-10-07T09:29:24.095063",
     "status": "completed"
    },
    "tags": []
   },
   "outputs": [
    {
     "data": {
      "text/plain": [
       "<Axes: xlabel='release_year', ylabel='rating'>"
      ]
     },
     "execution_count": 21,
     "metadata": {},
     "output_type": "execute_result"
    },
    {
     "data": {
      "image/png": "[encoded data removed]",
      "text/plain": [
       "<Figure size 640x480 with 1 Axes>"
      ]
     },
     "metadata": {},
     "output_type": "display_data"
    }
   ],
   "source": [
    "sns.boxplot(x = 'release_year', y = 'rating', data = df)"
   ]
  },
  {
   "cell_type": "code",
   "execution_count": 22,
   "id": "e4f54a73",
   "metadata": {
    "execution": {
     "iopub.execute_input": "2023-10-07T09:29:24.701475Z",
     "iopub.status.busy": "2023-10-07T09:29:24.699854Z",
     "iopub.status.idle": "2023-10-07T09:29:25.416886Z",
     "shell.execute_reply": "2023-10-07T09:29:25.416070Z"
    },
    "papermill": {
     "duration": 0.731088,
     "end_time": "2023-10-07T09:29:25.419563",
     "exception": false,
     "start_time": "2023-10-07T09:29:24.688475",
     "status": "completed"
    },
    "tags": []
   },
   "outputs": [
    {
     "name": "stderr",
     "output_type": "stream",
     "text": [
      "/tmp/ipykernel_20/4238151652.py:1: FutureWarning: Passing `palette` without assigning `hue` is deprecated.\n",
      "  sns.stripplot(x = 'release_year', y = 'rating', data = df\n"
     ]
    },
    {
     "data": {
      "text/plain": [
       "<Axes: xlabel='release_year', ylabel='rating'>"
      ]
     },
     "execution_count": 22,
     "metadata": {},
     "output_type": "execute_result"
    },
    {
     "data": {
      "image/png": "[encoded data removed]",
      "text/plain": [
       "<Figure size 640x480 with 1 Axes>"
      ]
     },
     "metadata": {},
     "output_type": "display_data"
    }
   ],
   "source": [
    "sns.stripplot(x = 'release_year', y = 'rating', data = df\n",
    "              ,  palette ='Set2')"
   ]
  },
  {
   "cell_type": "code",
   "execution_count": null,
   "id": "661dedd6",
   "metadata": {
    "papermill": {
     "duration": 0.011311,
     "end_time": "2023-10-07T09:29:25.442766",
     "exception": false,
     "start_time": "2023-10-07T09:29:25.431455",
     "status": "completed"
    },
    "tags": []
   },
   "outputs": [],
   "source": []
  }
 ],
 "metadata": {
  "kernelspec": {
   "display_name": "Python 3",
   "language": "python",
   "name": "python3"
  },
  "language_info": {
   "codemirror_mode": {
    "name": "ipython",
    "version": 3
   },
   "file_extension": ".py",
   "mimetype": "text/x-python",
   "name": "python",
   "nbconvert_exporter": "python",
   "pygments_lexer": "ipython3",
   "version": "3.10.12"
  },
  "papermill": {
   "default_parameters": {},
   "duration": 9.617617,
   "end_time": "2023-10-07T09:29:26.177326",
   "environment_variables": {},
   "exception": null,
   "input_path": "__notebook__.ipynb",
   "output_path": "__notebook__.ipynb",
   "parameters": {},
   "start_time": "2023-10-07T09:29:16.559709",
   "version": "2.4.0"
  }
 },
 "nbformat": 4,
 "nbformat_minor": 5
}
